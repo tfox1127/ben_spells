{
 "cells": [
  {
   "cell_type": "code",
   "execution_count": 15,
   "metadata": {},
   "outputs": [],
   "source": [
    "import pandas as pd \n",
    "import datetime as dt\n",
    "import os, random\n",
    "from flask import Flask, render_template, request, jsonify, session\n",
    "from sqlalchemy import create_engine, text\n",
    "from sqlalchemy.orm import scoped_session, sessionmaker\n",
    "\n",
    "DATABASE_URL = os.environ['DATABASE_URL']\n",
    "\n",
    "app = Flask(__name__)\n",
    "engine = create_engine(DATABASE_URL, isolation_level=\"AUTOCOMMIT\")\n",
    "db = scoped_session(sessionmaker(bind=engine))"
   ]
  },
  {
   "cell_type": "code",
   "execution_count": 16,
   "metadata": {},
   "outputs": [],
   "source": [
    "def send_it(df, table, **kwargs):\n",
    "    alchemyEngine           = create_engine(DATABASE_URL, pool_recycle=3600);\n",
    "    postgreSQLConnection    = alchemyEngine.connect();\n",
    "    postgreSQLTable         = table;\n",
    "    \n",
    "    try:\n",
    "        frame           = df.to_sql(postgreSQLTable, alchemyEngine, if_exists='replace', method='multi');\n",
    "    except ValueError as vx:\n",
    "        print(vx)\n",
    "    except Exception as ex:\n",
    "        print(ex)\n",
    "    else:\n",
    "        print(\"PostgreSQL Table %s has been created successfully.\"%postgreSQLTable);\n",
    "    finally:\n",
    "        postgreSQLConnection.invalidate()\n",
    "        postgreSQLConnection.close();"
   ]
  },
  {
   "cell_type": "code",
   "execution_count": 6,
   "metadata": {},
   "outputs": [],
   "source": [
    "df = pd.read_clipboard()"
   ]
  },
  {
   "cell_type": "code",
   "execution_count": 17,
   "metadata": {},
   "outputs": [
    {
     "data": {
      "text/html": [
       "<div>\n",
       "<style scoped>\n",
       "    .dataframe tbody tr th:only-of-type {\n",
       "        vertical-align: middle;\n",
       "    }\n",
       "\n",
       "    .dataframe tbody tr th {\n",
       "        vertical-align: top;\n",
       "    }\n",
       "\n",
       "    .dataframe thead th {\n",
       "        text-align: right;\n",
       "    }\n",
       "</style>\n",
       "<table border=\"1\" class=\"dataframe\">\n",
       "  <thead>\n",
       "    <tr style=\"text-align: right;\">\n",
       "      <th></th>\n",
       "      <th>user_id</th>\n",
       "      <th>original_word_original</th>\n",
       "      <th>user_word</th>\n",
       "      <th>original_word</th>\n",
       "    </tr>\n",
       "  </thead>\n",
       "  <tbody>\n",
       "    <tr>\n",
       "      <th>0</th>\n",
       "      <td>1</td>\n",
       "      <td>abcdefghijklmnopqrstuvwxyz</td>\n",
       "      <td>abcdefghijklmnopqrstuvwxyz</td>\n",
       "      <td>abcdefghijklmnopqrstuvwxyz</td>\n",
       "    </tr>\n",
       "  </tbody>\n",
       "</table>\n",
       "</div>"
      ],
      "text/plain": [
       "   user_id      original_word_original                   user_word  \\\n",
       "0        1  abcdefghijklmnopqrstuvwxyz  abcdefghijklmnopqrstuvwxyz   \n",
       "\n",
       "                original_word  \n",
       "0  abcdefghijklmnopqrstuvwxyz  "
      ]
     },
     "execution_count": 17,
     "metadata": {},
     "output_type": "execute_result"
    }
   ],
   "source": [
    "df"
   ]
  },
  {
   "cell_type": "code",
   "execution_count": 18,
   "metadata": {},
   "outputs": [],
   "source": [
    "df['ts'] = dt.datetime.now()"
   ]
  },
  {
   "cell_type": "code",
   "execution_count": 19,
   "metadata": {},
   "outputs": [
    {
     "data": {
      "text/html": [
       "<div>\n",
       "<style scoped>\n",
       "    .dataframe tbody tr th:only-of-type {\n",
       "        vertical-align: middle;\n",
       "    }\n",
       "\n",
       "    .dataframe tbody tr th {\n",
       "        vertical-align: top;\n",
       "    }\n",
       "\n",
       "    .dataframe thead th {\n",
       "        text-align: right;\n",
       "    }\n",
       "</style>\n",
       "<table border=\"1\" class=\"dataframe\">\n",
       "  <thead>\n",
       "    <tr style=\"text-align: right;\">\n",
       "      <th></th>\n",
       "      <th>user_id</th>\n",
       "      <th>original_word_original</th>\n",
       "      <th>user_word</th>\n",
       "      <th>original_word</th>\n",
       "      <th>ts</th>\n",
       "    </tr>\n",
       "  </thead>\n",
       "  <tbody>\n",
       "    <tr>\n",
       "      <th>0</th>\n",
       "      <td>1</td>\n",
       "      <td>abcdefghijklmnopqrstuvwxyz</td>\n",
       "      <td>abcdefghijklmnopqrstuvwxyz</td>\n",
       "      <td>abcdefghijklmnopqrstuvwxyz</td>\n",
       "      <td>2025-01-13 21:00:12.002006</td>\n",
       "    </tr>\n",
       "  </tbody>\n",
       "</table>\n",
       "</div>"
      ],
      "text/plain": [
       "   user_id      original_word_original                   user_word  \\\n",
       "0        1  abcdefghijklmnopqrstuvwxyz  abcdefghijklmnopqrstuvwxyz   \n",
       "\n",
       "                original_word                         ts  \n",
       "0  abcdefghijklmnopqrstuvwxyz 2025-01-13 21:00:12.002006  "
      ]
     },
     "execution_count": 19,
     "metadata": {},
     "output_type": "execute_result"
    }
   ],
   "source": [
    "df"
   ]
  },
  {
   "cell_type": "code",
   "execution_count": 20,
   "metadata": {},
   "outputs": [
    {
     "name": "stdout",
     "output_type": "stream",
     "text": [
      "PostgreSQL Table ben_spells_logs has been created successfully.\n"
     ]
    }
   ],
   "source": [
    "send_it(df, 'ben_spells_logs')"
   ]
  },
  {
   "cell_type": "code",
   "execution_count": 13,
   "metadata": {},
   "outputs": [],
   "source": [
    "a = 123\n",
    "b = 'sheep'\n",
    "c = 'sheep'\n",
    "d = 'sheep'\n",
    "\n",
    "\n",
    "db.execute(text(\n",
    "    f\"\"\"\n",
    "        INSERT INTO ben_spells_logs (user_id, original_word_original, user_word, original_word)\n",
    "        VALUES ({a}, '{b}', '{c}', '{d}');\n",
    "    \"\"\"))\n",
    "db.commit()"
   ]
  },
  {
   "cell_type": "code",
   "execution_count": null,
   "metadata": {},
   "outputs": [],
   "source": []
  },
  {
   "cell_type": "code",
   "execution_count": 27,
   "metadata": {},
   "outputs": [],
   "source": [
    "db.execute(text( \"\"\"SELECT * FROM ben_spells_logs;\"\"\")).fetchall()\n",
    "\n",
    "df = pd.read_sql_query(\"SELECT * FROM ben_spells_logs;\", engine)"
   ]
  },
  {
   "cell_type": "code",
   "execution_count": 28,
   "metadata": {},
   "outputs": [
    {
     "data": {
      "text/html": [
       "<div>\n",
       "<style scoped>\n",
       "    .dataframe tbody tr th:only-of-type {\n",
       "        vertical-align: middle;\n",
       "    }\n",
       "\n",
       "    .dataframe tbody tr th {\n",
       "        vertical-align: top;\n",
       "    }\n",
       "\n",
       "    .dataframe thead th {\n",
       "        text-align: right;\n",
       "    }\n",
       "</style>\n",
       "<table border=\"1\" class=\"dataframe\">\n",
       "  <thead>\n",
       "    <tr style=\"text-align: right;\">\n",
       "      <th></th>\n",
       "      <th>index</th>\n",
       "      <th>user_id</th>\n",
       "      <th>original_word_original</th>\n",
       "      <th>user_word</th>\n",
       "      <th>original_word</th>\n",
       "      <th>ts</th>\n",
       "    </tr>\n",
       "  </thead>\n",
       "  <tbody>\n",
       "    <tr>\n",
       "      <th>0</th>\n",
       "      <td>0.0</td>\n",
       "      <td>1</td>\n",
       "      <td>abcdefghijklmnopqrstuvwxyz</td>\n",
       "      <td>abcdefghijklmnopqrstuvwxyz</td>\n",
       "      <td>abcdefghijklmnopqrstuvwxyz</td>\n",
       "      <td>2025-01-13 21:00:12.002006</td>\n",
       "    </tr>\n",
       "    <tr>\n",
       "      <th>1</th>\n",
       "      <td>NaN</td>\n",
       "      <td>6476</td>\n",
       "      <td>tail</td>\n",
       "      <td>tail</td>\n",
       "      <td>tail</td>\n",
       "      <td>2025-01-13 21:01:59.560644</td>\n",
       "    </tr>\n",
       "    <tr>\n",
       "      <th>2</th>\n",
       "      <td>NaN</td>\n",
       "      <td>6476</td>\n",
       "      <td>wait</td>\n",
       "      <td>wait</td>\n",
       "      <td>wait</td>\n",
       "      <td>2025-01-13 21:03:08.112576</td>\n",
       "    </tr>\n",
       "    <tr>\n",
       "      <th>3</th>\n",
       "      <td>NaN</td>\n",
       "      <td>6476</td>\n",
       "      <td>booth</td>\n",
       "      <td>trade</td>\n",
       "      <td>booth</td>\n",
       "      <td>2025-01-13 21:03:21.638751</td>\n",
       "    </tr>\n",
       "  </tbody>\n",
       "</table>\n",
       "</div>"
      ],
      "text/plain": [
       "   index  user_id      original_word_original                   user_word  \\\n",
       "0    0.0        1  abcdefghijklmnopqrstuvwxyz  abcdefghijklmnopqrstuvwxyz   \n",
       "1    NaN     6476                        tail                        tail   \n",
       "2    NaN     6476                        wait                        wait   \n",
       "3    NaN     6476                       booth                       trade   \n",
       "\n",
       "                original_word                         ts  \n",
       "0  abcdefghijklmnopqrstuvwxyz 2025-01-13 21:00:12.002006  \n",
       "1                        tail 2025-01-13 21:01:59.560644  \n",
       "2                        wait 2025-01-13 21:03:08.112576  \n",
       "3                       booth 2025-01-13 21:03:21.638751  "
      ]
     },
     "execution_count": 28,
     "metadata": {},
     "output_type": "execute_result"
    }
   ],
   "source": [
    "df"
   ]
  },
  {
   "cell_type": "code",
   "execution_count": null,
   "metadata": {},
   "outputs": [],
   "source": []
  }
 ],
 "metadata": {
  "kernelspec": {
   "display_name": "base",
   "language": "python",
   "name": "python3"
  },
  "language_info": {
   "codemirror_mode": {
    "name": "ipython",
    "version": 3
   },
   "file_extension": ".py",
   "mimetype": "text/x-python",
   "name": "python",
   "nbconvert_exporter": "python",
   "pygments_lexer": "ipython3",
   "version": "3.11.5"
  },
  "orig_nbformat": 4
 },
 "nbformat": 4,
 "nbformat_minor": 2
}
